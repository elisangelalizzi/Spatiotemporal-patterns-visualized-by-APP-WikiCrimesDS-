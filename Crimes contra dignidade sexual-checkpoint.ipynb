{
 "cells": [
  {
   "cell_type": "markdown",
   "id": "a686de76-4aef-49ab-9f04-a151614dc1ea",
   "metadata": {},
   "source": [
    "1 - CARREGAMENTO E TRATAMENTO DOS DATASETS"
   ]
  },
  {
   "cell_type": "code",
   "execution_count": 1,
   "id": "078909b0-c6e1-4394-ac78-becdf009767f",
   "metadata": {
    "tags": []
   },
   "outputs": [],
   "source": [
    "setwd(\"C:/Users/jhona/Desktop/TCC\")"
   ]
  },
  {
   "cell_type": "markdown",
   "id": "bf80a289-70b1-4492-ac77-d9cf6f9fabc0",
   "metadata": {},
   "source": [
    "1.1- Municípios do Paraná em SHP"
   ]
  },
  {
   "cell_type": "markdown",
   "id": "7bbc94d5-7db3-46ce-8531-8217144221a9",
   "metadata": {},
   "source": [
    "a. Carregando do arquivo em formato shapefile"
   ]
  },
  {
   "cell_type": "raw",
   "id": "2e1d42b7-a50f-4eb3-918c-8e9b1a8547d7",
   "metadata": {},
   "source": [
    "Carregamento dos mapas em shapefile com a função readOGR() da biblioteca rgdal para a variável pr"
   ]
  },
  {
   "cell_type": "code",
   "execution_count": 2,
   "id": "3eb1c08a-3fac-48cf-80a8-62e6b428c0ac",
   "metadata": {
    "tags": []
   },
   "outputs": [
    {
     "name": "stderr",
     "output_type": "stream",
     "text": [
      "Carregando pacotes exigidos: sp\n",
      "\n",
      "rgdal: version: 1.5-23, (SVN revision 1121)\n",
      "Geospatial Data Abstraction Library extensions to R successfully loaded\n",
      "Loaded GDAL runtime: GDAL 3.2.1, released 2020/12/29\n",
      "Path to GDAL shared files: C:/Users/jhona/OneDrive/Documents/R/win-library/4.1/rgdal/gdal\n",
      "GDAL binary built with GEOS: TRUE \n",
      "Loaded PROJ runtime: Rel. 7.2.1, January 1st, 2021, [PJ_VERSION: 721]\n",
      "Path to PROJ shared files: C:/Users/jhona/OneDrive/Documents/R/win-library/4.1/rgdal/proj\n",
      "PROJ CDN enabled: FALSE\n",
      "Linking to sp version:1.4-5\n",
      "To mute warnings of possible GDAL/OSR exportToProj4() degradation,\n",
      "use options(\"rgdal_show_exportToProj4_warnings\"=\"none\") before loading rgdal.\n",
      "Overwritten PROJ_LIB was C:/Users/jhona/OneDrive/Documents/R/win-library/4.1/rgdal/proj\n",
      "\n",
      "Warning message in OGRSpatialRef(dsn, layer, morphFromESRI = morphFromESRI, dumpSRS = dumpSRS, :\n",
      "\"Discarded datum Sistema_de_Referencia_Geocentrico_para_las_AmericaS_2000 in Proj4 definition: +proj=longlat +ellps=GRS80 +towgs84=0,0,0,0,0,0,0 +no_defs\"\n"
     ]
    }
   ],
   "source": [
    "library(rgdal)\n",
    "\n",
    "pr <- readOGR(dsn = \"./Dados/pr_municipios_shapefile/pr_municipios\", \n",
    "              layer = \"41MUE250GC_SIR\", \n",
    "              verbose = FALSE, \n",
    "              use_iconv = TRUE, \n",
    "              encoding = \"UTF-8\")"
   ]
  },
  {
   "cell_type": "markdown",
   "id": "242f9e90-cf9f-4ffd-ac05-f9c37cc1f3df",
   "metadata": {},
   "source": [
    "b. Tratamento da informação"
   ]
  },
  {
   "cell_type": "code",
   "execution_count": 3,
   "id": "0ec5fc49-90b9-46b3-a938-fa5a8e05ecfb",
   "metadata": {
    "tags": []
   },
   "outputs": [
    {
     "name": "stderr",
     "output_type": "stream",
     "text": [
      "\n",
      "Attaching package: 'dplyr'\n",
      "\n",
      "\n",
      "The following objects are masked from 'package:stats':\n",
      "\n",
      "    filter, lag\n",
      "\n",
      "\n",
      "The following objects are masked from 'package:base':\n",
      "\n",
      "    intersect, setdiff, setequal, union\n",
      "\n",
      "\n"
     ]
    },
    {
     "data": {
      "text/html": [
       "<table class=\"dataframe\">\n",
       "<caption>A data.frame: 6 × 3</caption>\n",
       "<thead>\n",
       "\t<tr><th></th><th scope=col>NM_MUNICIP</th><th scope=col>CD_GEOCMU</th><th scope=col>municipio</th></tr>\n",
       "\t<tr><th></th><th scope=col>&lt;chr&gt;</th><th scope=col>&lt;chr&gt;</th><th scope=col>&lt;chr&gt;</th></tr>\n",
       "</thead>\n",
       "<tbody>\n",
       "\t<tr><th scope=row>0</th><td>ABATIÁ             </td><td>4100103</td><td>abatia             </td></tr>\n",
       "\t<tr><th scope=row>1</th><td>ADRIANÓPOLIS       </td><td>4100202</td><td>adrianopolis       </td></tr>\n",
       "\t<tr><th scope=row>2</th><td>AGUDOS DO SUL      </td><td>4100301</td><td>agudos do sul      </td></tr>\n",
       "\t<tr><th scope=row>3</th><td>ALMIRANTE TAMANDARÉ</td><td>4100400</td><td>almirante tamandare</td></tr>\n",
       "\t<tr><th scope=row>4</th><td>ALTAMIRA DO PARANÁ </td><td>4100459</td><td>altamira do parana </td></tr>\n",
       "\t<tr><th scope=row>5</th><td>ALTO PARAÍSO       </td><td>4128625</td><td>alto paraiso       </td></tr>\n",
       "</tbody>\n",
       "</table>\n"
      ],
      "text/latex": [
       "A data.frame: 6 × 3\n",
       "\\begin{tabular}{r|lll}\n",
       "  & NM\\_MUNICIP & CD\\_GEOCMU & municipio\\\\\n",
       "  & <chr> & <chr> & <chr>\\\\\n",
       "\\hline\n",
       "\t0 & ABATIÁ              & 4100103 & abatia             \\\\\n",
       "\t1 & ADRIANÓPOLIS        & 4100202 & adrianopolis       \\\\\n",
       "\t2 & AGUDOS DO SUL       & 4100301 & agudos do sul      \\\\\n",
       "\t3 & ALMIRANTE TAMANDARÉ & 4100400 & almirante tamandare\\\\\n",
       "\t4 & ALTAMIRA DO PARANÁ  & 4100459 & altamira do parana \\\\\n",
       "\t5 & ALTO PARAÍSO        & 4128625 & alto paraiso       \\\\\n",
       "\\end{tabular}\n"
      ],
      "text/markdown": [
       "\n",
       "A data.frame: 6 × 3\n",
       "\n",
       "| <!--/--> | NM_MUNICIP &lt;chr&gt; | CD_GEOCMU &lt;chr&gt; | municipio &lt;chr&gt; |\n",
       "|---|---|---|---|\n",
       "| 0 | ABATIÁ              | 4100103 | abatia              |\n",
       "| 1 | ADRIANÓPOLIS        | 4100202 | adrianopolis        |\n",
       "| 2 | AGUDOS DO SUL       | 4100301 | agudos do sul       |\n",
       "| 3 | ALMIRANTE TAMANDARÉ | 4100400 | almirante tamandare |\n",
       "| 4 | ALTAMIRA DO PARANÁ  | 4100459 | altamira do parana  |\n",
       "| 5 | ALTO PARAÍSO        | 4128625 | alto paraiso        |\n",
       "\n"
      ],
      "text/plain": [
       "  NM_MUNICIP          CD_GEOCMU municipio          \n",
       "0 ABATIÁ              4100103   abatia             \n",
       "1 ADRIANÓPOLIS        4100202   adrianopolis       \n",
       "2 AGUDOS DO SUL       4100301   agudos do sul      \n",
       "3 ALMIRANTE TAMANDARÉ 4100400   almirante tamandare\n",
       "4 ALTAMIRA DO PARANÁ  4100459   altamira do parana \n",
       "5 ALTO PARAÍSO        4128625   alto paraiso       "
      ]
     },
     "metadata": {},
     "output_type": "display_data"
    }
   ],
   "source": [
    "library(dplyr)\n",
    "library(stringi)\n",
    "\n",
    "pr@data <- pr@data %>% mutate(municipio = tolower(NM_MUNICIP))\n",
    "pr@data$municipio <- gsub(\"\\\\'\",\"o \", as.character(pr@data$municipio)) %>% stri_trans_general(\"Latin-ASCII\")\n",
    "head(pr@data)"
   ]
  },
  {
   "cell_type": "markdown",
   "id": "e046b87c-4950-4423-9b80-14d87d6f72aa",
   "metadata": {},
   "source": [
    "1.2 - Dados dos crimes contra a dignidade sexual no Paraná"
   ]
  },
  {
   "cell_type": "code",
   "execution_count": 4,
   "id": "46e89f8a-4397-4aac-9623-f8b286baed55",
   "metadata": {
    "tags": []
   },
   "outputs": [
    {
     "name": "stderr",
     "output_type": "stream",
     "text": [
      "\n",
      "Attaching package: 'lubridate'\n",
      "\n",
      "\n",
      "The following objects are masked from 'package:base':\n",
      "\n",
      "    date, intersect, setdiff, union\n",
      "\n",
      "\n"
     ]
    },
    {
     "data": {
      "text/html": [
       "<style>\n",
       ".list-inline {list-style: none; margin:0; padding: 0}\n",
       ".list-inline>li {display: inline-block}\n",
       ".list-inline>li:not(:last-child)::after {content: \"\\00b7\"; padding: 0 .5ex}\n",
       "</style>\n",
       "<ol class=list-inline><li>2208</li><li>6</li></ol>\n"
      ],
      "text/latex": [
       "\\begin{enumerate*}\n",
       "\\item 2208\n",
       "\\item 6\n",
       "\\end{enumerate*}\n"
      ],
      "text/markdown": [
       "1. 2208\n",
       "2. 6\n",
       "\n",
       "\n"
      ],
      "text/plain": [
       "[1] 2208    6"
      ]
     },
     "metadata": {},
     "output_type": "display_data"
    },
    {
     "data": {
      "text/html": [
       "<table class=\"dataframe\">\n",
       "<caption>A tibble: 6 × 6</caption>\n",
       "<thead>\n",
       "\t<tr><th scope=col>aisp</th><th scope=col>aisp_name</th><th scope=col>ano</th><th scope=col>mes</th><th scope=col>contagem</th><th scope=col>date</th></tr>\n",
       "\t<tr><th scope=col>&lt;chr&gt;</th><th scope=col>&lt;chr&gt;</th><th scope=col>&lt;dbl&gt;</th><th scope=col>&lt;chr&gt;</th><th scope=col>&lt;int&gt;</th><th scope=col>&lt;date&gt;</th></tr>\n",
       "</thead>\n",
       "<tbody>\n",
       "\t<tr><td>1</td><td>Curitiba</td><td>2012</td><td>Jan</td><td>61</td><td>2012-01-01</td></tr>\n",
       "\t<tr><td>1</td><td>Curitiba</td><td>2012</td><td>Fev</td><td>70</td><td>2012-02-01</td></tr>\n",
       "\t<tr><td>1</td><td>Curitiba</td><td>2012</td><td>Mar</td><td>54</td><td>2012-03-01</td></tr>\n",
       "\t<tr><td>1</td><td>Curitiba</td><td>2012</td><td>Abr</td><td>48</td><td>2012-04-01</td></tr>\n",
       "\t<tr><td>1</td><td>Curitiba</td><td>2012</td><td>Mai</td><td>50</td><td>2012-05-01</td></tr>\n",
       "\t<tr><td>1</td><td>Curitiba</td><td>2012</td><td>Jun</td><td>53</td><td>2012-06-01</td></tr>\n",
       "</tbody>\n",
       "</table>\n"
      ],
      "text/latex": [
       "A tibble: 6 × 6\n",
       "\\begin{tabular}{llllll}\n",
       " aisp & aisp\\_name & ano & mes & contagem & date\\\\\n",
       " <chr> & <chr> & <dbl> & <chr> & <int> & <date>\\\\\n",
       "\\hline\n",
       "\t 1 & Curitiba & 2012 & Jan & 61 & 2012-01-01\\\\\n",
       "\t 1 & Curitiba & 2012 & Fev & 70 & 2012-02-01\\\\\n",
       "\t 1 & Curitiba & 2012 & Mar & 54 & 2012-03-01\\\\\n",
       "\t 1 & Curitiba & 2012 & Abr & 48 & 2012-04-01\\\\\n",
       "\t 1 & Curitiba & 2012 & Mai & 50 & 2012-05-01\\\\\n",
       "\t 1 & Curitiba & 2012 & Jun & 53 & 2012-06-01\\\\\n",
       "\\end{tabular}\n"
      ],
      "text/markdown": [
       "\n",
       "A tibble: 6 × 6\n",
       "\n",
       "| aisp &lt;chr&gt; | aisp_name &lt;chr&gt; | ano &lt;dbl&gt; | mes &lt;chr&gt; | contagem &lt;int&gt; | date &lt;date&gt; |\n",
       "|---|---|---|---|---|---|\n",
       "| 1 | Curitiba | 2012 | Jan | 61 | 2012-01-01 |\n",
       "| 1 | Curitiba | 2012 | Fev | 70 | 2012-02-01 |\n",
       "| 1 | Curitiba | 2012 | Mar | 54 | 2012-03-01 |\n",
       "| 1 | Curitiba | 2012 | Abr | 48 | 2012-04-01 |\n",
       "| 1 | Curitiba | 2012 | Mai | 50 | 2012-05-01 |\n",
       "| 1 | Curitiba | 2012 | Jun | 53 | 2012-06-01 |\n",
       "\n"
      ],
      "text/plain": [
       "  aisp aisp_name ano  mes contagem date      \n",
       "1 1    Curitiba  2012 Jan 61       2012-01-01\n",
       "2 1    Curitiba  2012 Fev 70       2012-02-01\n",
       "3 1    Curitiba  2012 Mar 54       2012-03-01\n",
       "4 1    Curitiba  2012 Abr 48       2012-04-01\n",
       "5 1    Curitiba  2012 Mai 50       2012-05-01\n",
       "6 1    Curitiba  2012 Jun 53       2012-06-01"
      ]
     },
     "metadata": {},
     "output_type": "display_data"
    }
   ],
   "source": [
    "library(tidyr)\n",
    "library(lubridate)\n",
    "\n",
    "csvnames <- sub(\".csv\", \"\", list.files(\"./Dados/Crimes a contra dignidade sexual/CSV/\", pattern = \".csv$\"))\n",
    "\n",
    "frame <- lapply(csvnames, function(x){\n",
    "    dataset <- read.csv2(paste(\"./Dados/Crimes a contra dignidade sexual/CSV/\", x, \".csv\", sep=\"\"), encoding = \"UTF-8\")\n",
    "    dataset$ano = as.numeric(x)\n",
    "    dataset\n",
    "})\n",
    "\n",
    "dados <- do.call(rbind, frame) %>% \n",
    "            separate(AISP, c(\"aisp\", \"aisp_name\"), sep = \"a - \") %>%\n",
    "            pivot_longer(cols = !c(\"aisp\", \"aisp_name\", \"ano\"), names_to = \"mes\", values_to = \"contagem\") %>%\n",
    "            mutate(date = as.Date(paste0(ano, \"-\", mes, \"-01\"), \"%Y-%b-%d\"))\n",
    "\n",
    "dados <- arrange(dados, aisp, date)\n",
    "\n",
    "dim(dados)\n",
    "head(dados)"
   ]
  },
  {
   "cell_type": "markdown",
   "id": "82854f60-ef37-44ac-99e0-d601cb2c93a2",
   "metadata": {},
   "source": [
    "1.3- Dados populacionais dos municípios do Paraná, de 2012 à 2019"
   ]
  },
  {
   "cell_type": "code",
   "execution_count": 5,
   "id": "6c302b07-e017-4c37-86c7-e1b9a96b4583",
   "metadata": {
    "tags": []
   },
   "outputs": [],
   "source": [
    "pop_pr <- read.csv2(\"./Dados/populacao_municipios_pr.csv\", encoding = \"UTF-8\") %>%\n",
    "            separate(Município, c(\"cod\", \"municipio\"), sep = \" \", extra = \"merge\") %>%\n",
    "            mutate(municipio = tolower(municipio)) %>%\n",
    "            pivot_longer(cols = !c(\"cod\", \"municipio\"), names_to = \"ano\", values_to = \"populacao\")"
   ]
  },
  {
   "cell_type": "code",
   "execution_count": 6,
   "id": "fafd4ebc-5830-4e85-bb69-7020c35bb219",
   "metadata": {},
   "outputs": [
    {
     "data": {
      "text/html": [
       "<table class=\"dataframe\">\n",
       "<caption>A tibble: 6 × 4</caption>\n",
       "<thead>\n",
       "\t<tr><th scope=col>cod</th><th scope=col>municipio</th><th scope=col>ano</th><th scope=col>populacao</th></tr>\n",
       "\t<tr><th scope=col>&lt;chr&gt;</th><th scope=col>&lt;chr&gt;</th><th scope=col>&lt;int&gt;</th><th scope=col>&lt;int&gt;</th></tr>\n",
       "</thead>\n",
       "<tbody>\n",
       "\t<tr><td>410010</td><td>abatia</td><td>2012</td><td>7819</td></tr>\n",
       "\t<tr><td>410010</td><td>abatia</td><td>2013</td><td>7768</td></tr>\n",
       "\t<tr><td>410010</td><td>abatia</td><td>2014</td><td>7715</td></tr>\n",
       "\t<tr><td>410010</td><td>abatia</td><td>2015</td><td>7661</td></tr>\n",
       "\t<tr><td>410010</td><td>abatia</td><td>2016</td><td>7609</td></tr>\n",
       "\t<tr><td>410010</td><td>abatia</td><td>2017</td><td>7559</td></tr>\n",
       "</tbody>\n",
       "</table>\n"
      ],
      "text/latex": [
       "A tibble: 6 × 4\n",
       "\\begin{tabular}{llll}\n",
       " cod & municipio & ano & populacao\\\\\n",
       " <chr> & <chr> & <int> & <int>\\\\\n",
       "\\hline\n",
       "\t 410010 & abatia & 2012 & 7819\\\\\n",
       "\t 410010 & abatia & 2013 & 7768\\\\\n",
       "\t 410010 & abatia & 2014 & 7715\\\\\n",
       "\t 410010 & abatia & 2015 & 7661\\\\\n",
       "\t 410010 & abatia & 2016 & 7609\\\\\n",
       "\t 410010 & abatia & 2017 & 7559\\\\\n",
       "\\end{tabular}\n"
      ],
      "text/markdown": [
       "\n",
       "A tibble: 6 × 4\n",
       "\n",
       "| cod &lt;chr&gt; | municipio &lt;chr&gt; | ano &lt;int&gt; | populacao &lt;int&gt; |\n",
       "|---|---|---|---|\n",
       "| 410010 | abatia | 2012 | 7819 |\n",
       "| 410010 | abatia | 2013 | 7768 |\n",
       "| 410010 | abatia | 2014 | 7715 |\n",
       "| 410010 | abatia | 2015 | 7661 |\n",
       "| 410010 | abatia | 2016 | 7609 |\n",
       "| 410010 | abatia | 2017 | 7559 |\n",
       "\n"
      ],
      "text/plain": [
       "  cod    municipio ano  populacao\n",
       "1 410010 abatia    2012 7819     \n",
       "2 410010 abatia    2013 7768     \n",
       "3 410010 abatia    2014 7715     \n",
       "4 410010 abatia    2015 7661     \n",
       "5 410010 abatia    2016 7609     \n",
       "6 410010 abatia    2017 7559     "
      ]
     },
     "metadata": {},
     "output_type": "display_data"
    }
   ],
   "source": [
    "pop_pr$municipio <- gsub(\"\\\\'\",\"o \",as.character(pop_pr$municipio)) %>%\n",
    "                    stri_trans_general(\"Latin-ASCII\")\n",
    "\n",
    "pop_pr$ano <- gsub(\"X\",\"\",as.character(pop_pr$ano)) %>%\n",
    "                as.integer()\n",
    "\n",
    "head(pop_pr)"
   ]
  },
  {
   "cell_type": "markdown",
   "id": "983b193e-b273-43ce-be68-f35ff7f74846",
   "metadata": {},
   "source": [
    "1.4- Relação AISP x Município"
   ]
  },
  {
   "cell_type": "code",
   "execution_count": 7,
   "id": "87405b4d-7e25-444e-8238-a4bbb26cf731",
   "metadata": {},
   "outputs": [
    {
     "data": {
      "text/html": [
       "<table class=\"dataframe\">\n",
       "<caption>A data.frame: 6 × 2</caption>\n",
       "<thead>\n",
       "\t<tr><th></th><th scope=col>aisp</th><th scope=col>municipio</th></tr>\n",
       "\t<tr><th></th><th scope=col>&lt;int&gt;</th><th scope=col>&lt;chr&gt;</th></tr>\n",
       "</thead>\n",
       "<tbody>\n",
       "\t<tr><th scope=row>1</th><td>18</td><td>jandaia do sul</td></tr>\n",
       "\t<tr><th scope=row>2</th><td>14</td><td>nova cantu    </td></tr>\n",
       "\t<tr><th scope=row>3</th><td>15</td><td>guaporema     </td></tr>\n",
       "\t<tr><th scope=row>4</th><td>13</td><td>maripa        </td></tr>\n",
       "\t<tr><th scope=row>5</th><td>15</td><td>moreira sales </td></tr>\n",
       "\t<tr><th scope=row>6</th><td>22</td><td>telemaco borba</td></tr>\n",
       "</tbody>\n",
       "</table>\n"
      ],
      "text/latex": [
       "A data.frame: 6 × 2\n",
       "\\begin{tabular}{r|ll}\n",
       "  & aisp & municipio\\\\\n",
       "  & <int> & <chr>\\\\\n",
       "\\hline\n",
       "\t1 & 18 & jandaia do sul\\\\\n",
       "\t2 & 14 & nova cantu    \\\\\n",
       "\t3 & 15 & guaporema     \\\\\n",
       "\t4 & 13 & maripa        \\\\\n",
       "\t5 & 15 & moreira sales \\\\\n",
       "\t6 & 22 & telemaco borba\\\\\n",
       "\\end{tabular}\n"
      ],
      "text/markdown": [
       "\n",
       "A data.frame: 6 × 2\n",
       "\n",
       "| <!--/--> | aisp &lt;int&gt; | municipio &lt;chr&gt; |\n",
       "|---|---|---|\n",
       "| 1 | 18 | jandaia do sul |\n",
       "| 2 | 14 | nova cantu     |\n",
       "| 3 | 15 | guaporema      |\n",
       "| 4 | 13 | maripa         |\n",
       "| 5 | 15 | moreira sales  |\n",
       "| 6 | 22 | telemaco borba |\n",
       "\n"
      ],
      "text/plain": [
       "  aisp municipio     \n",
       "1 18   jandaia do sul\n",
       "2 14   nova cantu    \n",
       "3 15   guaporema     \n",
       "4 13   maripa        \n",
       "5 15   moreira sales \n",
       "6 22   telemaco borba"
      ]
     },
     "metadata": {},
     "output_type": "display_data"
    }
   ],
   "source": [
    "aisps <- read.csv(\"./Dados/relacao_aisp_municipios_pr.csv\", encoding = \"UTF-8\") %>% select(!c(1, 2)) %>% mutate(municipio = tolower(municipio))\n",
    "\n",
    "aisps$aisp <- gsub(\"ª AISP\",\"\", aisps$aisp) %>%\n",
    "                as.integer()\n",
    "\n",
    "aisps$municipio <- gsub(\"\\\\'\",\"o \",as.character(aisps$municipio)) %>%\n",
    "                    stri_trans_general(\"Latin-ASCII\")\n",
    "\n",
    "head(aisps)"
   ]
  },
  {
   "cell_type": "markdown",
   "id": "5f135082-c5ec-44ba-bc20-4842b72ee62b",
   "metadata": {},
   "source": [
    "2- Préprocessamento"
   ]
  },
  {
   "cell_type": "code",
   "execution_count": 8,
   "id": "11f1d274-a3d4-48d9-bfb2-ecd509d2ee21",
   "metadata": {
    "tags": []
   },
   "outputs": [
    {
     "data": {
      "text/html": [
       "<table class=\"dataframe\">\n",
       "<caption>A grouped_df: 6 × 13</caption>\n",
       "<thead>\n",
       "\t<tr><th scope=col>aisp</th><th scope=col>ano</th><th scope=col>municipio</th><th scope=col>cod</th><th scope=col>populacao</th><th scope=col>aisp_name</th><th scope=col>mes</th><th scope=col>contagem</th><th scope=col>date</th><th scope=col>populacao_reg</th><th scope=col>taxa</th><th scope=col>E</th><th scope=col>SIR</th></tr>\n",
       "\t<tr><th scope=col>&lt;int&gt;</th><th scope=col>&lt;int&gt;</th><th scope=col>&lt;chr&gt;</th><th scope=col>&lt;chr&gt;</th><th scope=col>&lt;int&gt;</th><th scope=col>&lt;chr&gt;</th><th scope=col>&lt;chr&gt;</th><th scope=col>&lt;int&gt;</th><th scope=col>&lt;date&gt;</th><th scope=col>&lt;int&gt;</th><th scope=col>&lt;dbl&gt;</th><th scope=col>&lt;dbl&gt;</th><th scope=col>&lt;dbl&gt;</th></tr>\n",
       "</thead>\n",
       "<tbody>\n",
       "\t<tr><td>1</td><td>2012</td><td>curitiba</td><td>410690</td><td>1818550</td><td>Curitiba</td><td>Jan</td><td>61</td><td>2012-01-01</td><td>1818550</td><td>3.354321</td><td>92.1746</td><td>0.6617875</td></tr>\n",
       "\t<tr><td>1</td><td>2012</td><td>curitiba</td><td>410690</td><td>1818550</td><td>Curitiba</td><td>Fev</td><td>70</td><td>2012-02-01</td><td>1818550</td><td>3.849221</td><td>92.1746</td><td>0.7594283</td></tr>\n",
       "\t<tr><td>1</td><td>2012</td><td>curitiba</td><td>410690</td><td>1818550</td><td>Curitiba</td><td>Mar</td><td>54</td><td>2012-03-01</td><td>1818550</td><td>2.969399</td><td>92.1746</td><td>0.5858447</td></tr>\n",
       "\t<tr><td>1</td><td>2012</td><td>curitiba</td><td>410690</td><td>1818550</td><td>Curitiba</td><td>Abr</td><td>48</td><td>2012-04-01</td><td>1818550</td><td>2.639466</td><td>92.1746</td><td>0.5207509</td></tr>\n",
       "\t<tr><td>1</td><td>2012</td><td>curitiba</td><td>410690</td><td>1818550</td><td>Curitiba</td><td>Mai</td><td>50</td><td>2012-05-01</td><td>1818550</td><td>2.749443</td><td>92.1746</td><td>0.5424488</td></tr>\n",
       "\t<tr><td>1</td><td>2012</td><td>curitiba</td><td>410690</td><td>1818550</td><td>Curitiba</td><td>Jun</td><td>53</td><td>2012-06-01</td><td>1818550</td><td>2.914410</td><td>92.1746</td><td>0.5749957</td></tr>\n",
       "</tbody>\n",
       "</table>\n"
      ],
      "text/latex": [
       "A grouped\\_df: 6 × 13\n",
       "\\begin{tabular}{lllllllllllll}\n",
       " aisp & ano & municipio & cod & populacao & aisp\\_name & mes & contagem & date & populacao\\_reg & taxa & E & SIR\\\\\n",
       " <int> & <int> & <chr> & <chr> & <int> & <chr> & <chr> & <int> & <date> & <int> & <dbl> & <dbl> & <dbl>\\\\\n",
       "\\hline\n",
       "\t 1 & 2012 & curitiba & 410690 & 1818550 & Curitiba & Jan & 61 & 2012-01-01 & 1818550 & 3.354321 & 92.1746 & 0.6617875\\\\\n",
       "\t 1 & 2012 & curitiba & 410690 & 1818550 & Curitiba & Fev & 70 & 2012-02-01 & 1818550 & 3.849221 & 92.1746 & 0.7594283\\\\\n",
       "\t 1 & 2012 & curitiba & 410690 & 1818550 & Curitiba & Mar & 54 & 2012-03-01 & 1818550 & 2.969399 & 92.1746 & 0.5858447\\\\\n",
       "\t 1 & 2012 & curitiba & 410690 & 1818550 & Curitiba & Abr & 48 & 2012-04-01 & 1818550 & 2.639466 & 92.1746 & 0.5207509\\\\\n",
       "\t 1 & 2012 & curitiba & 410690 & 1818550 & Curitiba & Mai & 50 & 2012-05-01 & 1818550 & 2.749443 & 92.1746 & 0.5424488\\\\\n",
       "\t 1 & 2012 & curitiba & 410690 & 1818550 & Curitiba & Jun & 53 & 2012-06-01 & 1818550 & 2.914410 & 92.1746 & 0.5749957\\\\\n",
       "\\end{tabular}\n"
      ],
      "text/markdown": [
       "\n",
       "A grouped_df: 6 × 13\n",
       "\n",
       "| aisp &lt;int&gt; | ano &lt;int&gt; | municipio &lt;chr&gt; | cod &lt;chr&gt; | populacao &lt;int&gt; | aisp_name &lt;chr&gt; | mes &lt;chr&gt; | contagem &lt;int&gt; | date &lt;date&gt; | populacao_reg &lt;int&gt; | taxa &lt;dbl&gt; | E &lt;dbl&gt; | SIR &lt;dbl&gt; |\n",
       "|---|---|---|---|---|---|---|---|---|---|---|---|---|\n",
       "| 1 | 2012 | curitiba | 410690 | 1818550 | Curitiba | Jan | 61 | 2012-01-01 | 1818550 | 3.354321 | 92.1746 | 0.6617875 |\n",
       "| 1 | 2012 | curitiba | 410690 | 1818550 | Curitiba | Fev | 70 | 2012-02-01 | 1818550 | 3.849221 | 92.1746 | 0.7594283 |\n",
       "| 1 | 2012 | curitiba | 410690 | 1818550 | Curitiba | Mar | 54 | 2012-03-01 | 1818550 | 2.969399 | 92.1746 | 0.5858447 |\n",
       "| 1 | 2012 | curitiba | 410690 | 1818550 | Curitiba | Abr | 48 | 2012-04-01 | 1818550 | 2.639466 | 92.1746 | 0.5207509 |\n",
       "| 1 | 2012 | curitiba | 410690 | 1818550 | Curitiba | Mai | 50 | 2012-05-01 | 1818550 | 2.749443 | 92.1746 | 0.5424488 |\n",
       "| 1 | 2012 | curitiba | 410690 | 1818550 | Curitiba | Jun | 53 | 2012-06-01 | 1818550 | 2.914410 | 92.1746 | 0.5749957 |\n",
       "\n"
      ],
      "text/plain": [
       "  aisp ano  municipio cod    populacao aisp_name mes contagem date      \n",
       "1 1    2012 curitiba  410690 1818550   Curitiba  Jan 61       2012-01-01\n",
       "2 1    2012 curitiba  410690 1818550   Curitiba  Fev 70       2012-02-01\n",
       "3 1    2012 curitiba  410690 1818550   Curitiba  Mar 54       2012-03-01\n",
       "4 1    2012 curitiba  410690 1818550   Curitiba  Abr 48       2012-04-01\n",
       "5 1    2012 curitiba  410690 1818550   Curitiba  Mai 50       2012-05-01\n",
       "6 1    2012 curitiba  410690 1818550   Curitiba  Jun 53       2012-06-01\n",
       "  populacao_reg taxa     E       SIR      \n",
       "1 1818550       3.354321 92.1746 0.6617875\n",
       "2 1818550       3.849221 92.1746 0.7594283\n",
       "3 1818550       2.969399 92.1746 0.5858447\n",
       "4 1818550       2.639466 92.1746 0.5207509\n",
       "5 1818550       2.749443 92.1746 0.5424488\n",
       "6 1818550       2.914410 92.1746 0.5749957"
      ]
     },
     "metadata": {},
     "output_type": "display_data"
    }
   ],
   "source": [
    "df <- merge(aisps, pop_pr, by = 'municipio') %>%\n",
    "        merge(dados, by = c('aisp', 'ano')) %>%        \n",
    "        group_by(aisp, ano, mes) %>%\n",
    "        mutate(populacao_reg = sum(populacao)) %>%\n",
    "        mutate(taxa = (contagem/populacao_reg)*100000)\n",
    "\n",
    "df$E <- (sum(df$contagem)/sum(df$populacao_reg))*df$populacao_reg\n",
    "df$SIR <- df$contagem/df$E\n",
    "df <- arrange(df, aisp, ano, municipio, date)\n",
    "\n",
    "head(df)"
   ]
  },
  {
   "cell_type": "code",
   "execution_count": 14,
   "id": "4f668f82-dfc5-48ba-b0c1-8fbdbf18423b",
   "metadata": {},
   "outputs": [
    {
     "data": {
      "text/html": [
       "<style>\n",
       ".list-inline {list-style: none; margin:0; padding: 0}\n",
       ".list-inline>li {display: inline-block}\n",
       ".list-inline>li:not(:last-child)::after {content: \"\\00b7\"; padding: 0 .5ex}\n",
       "</style>\n",
       "<ol class=list-inline><li>399</li><li>98</li></ol>\n"
      ],
      "text/latex": [
       "\\begin{enumerate*}\n",
       "\\item 399\n",
       "\\item 98\n",
       "\\end{enumerate*}\n"
      ],
      "text/markdown": [
       "1. 399\n",
       "2. 98\n",
       "\n",
       "\n"
      ],
      "text/plain": [
       "[1] 399  98"
      ]
     },
     "metadata": {},
     "output_type": "display_data"
    },
    {
     "data": {
      "text/html": [
       "<table class=\"dataframe\">\n",
       "<caption>A data.frame: 6 × 98</caption>\n",
       "<thead>\n",
       "\t<tr><th></th><th scope=col>aisp</th><th scope=col>municipio</th><th scope=col>SIR.2012-01-01</th><th scope=col>SIR.2012-02-01</th><th scope=col>SIR.2012-03-01</th><th scope=col>SIR.2012-04-01</th><th scope=col>SIR.2012-05-01</th><th scope=col>SIR.2012-06-01</th><th scope=col>SIR.2012-07-01</th><th scope=col>SIR.2012-08-01</th><th scope=col>...</th><th scope=col>SIR.2019-03-01</th><th scope=col>SIR.2019-04-01</th><th scope=col>SIR.2019-05-01</th><th scope=col>SIR.2019-06-01</th><th scope=col>SIR.2019-07-01</th><th scope=col>SIR.2019-08-01</th><th scope=col>SIR.2019-09-01</th><th scope=col>SIR.2019-10-01</th><th scope=col>SIR.2019-11-01</th><th scope=col>SIR.2019-12-01</th></tr>\n",
       "\t<tr><th></th><th scope=col>&lt;int&gt;</th><th scope=col>&lt;chr&gt;</th><th scope=col>&lt;dbl&gt;</th><th scope=col>&lt;dbl&gt;</th><th scope=col>&lt;dbl&gt;</th><th scope=col>&lt;dbl&gt;</th><th scope=col>&lt;dbl&gt;</th><th scope=col>&lt;dbl&gt;</th><th scope=col>&lt;dbl&gt;</th><th scope=col>&lt;dbl&gt;</th><th scope=col>...</th><th scope=col>&lt;dbl&gt;</th><th scope=col>&lt;dbl&gt;</th><th scope=col>&lt;dbl&gt;</th><th scope=col>&lt;dbl&gt;</th><th scope=col>&lt;dbl&gt;</th><th scope=col>&lt;dbl&gt;</th><th scope=col>&lt;dbl&gt;</th><th scope=col>&lt;dbl&gt;</th><th scope=col>&lt;dbl&gt;</th><th scope=col>&lt;dbl&gt;</th></tr>\n",
       "</thead>\n",
       "<tbody>\n",
       "\t<tr><th scope=row>1</th><td>1</td><td>curitiba           </td><td>0.6617875</td><td>0.7594283</td><td>0.5858447</td><td>0.5207509</td><td>0.5424488</td><td>0.5749957</td><td>0.5532978</td><td>0.6617875</td><td>...</td><td>1.275759</td><td>1.347201</td><td>1.071637</td><td>1.020607</td><td>1.112462</td><td>1.255347</td><td>1.285965</td><td>1.428850</td><td>1.275759</td><td>1.030813</td></tr>\n",
       "\t<tr><th scope=row>97</th><td>2</td><td>adrianopolis       </td><td>1.2255405</td><td>0.9470086</td><td>1.1559075</td><td>0.8216692</td><td>0.9748618</td><td>0.7241830</td><td>0.7102564</td><td>1.0444948</td><td>...</td><td>1.622102</td><td>1.509803</td><td>1.472370</td><td>1.172905</td><td>1.185382</td><td>1.360070</td><td>1.360070</td><td>1.784313</td><td>1.472370</td><td>1.023172</td></tr>\n",
       "\t<tr><th scope=row>109</th><td>2</td><td>agudos do sul      </td><td>1.2255405</td><td>0.9470086</td><td>1.1559075</td><td>0.8216692</td><td>0.9748618</td><td>0.7241830</td><td>0.7102564</td><td>1.0444948</td><td>...</td><td>1.622102</td><td>1.509803</td><td>1.472370</td><td>1.172905</td><td>1.185382</td><td>1.360070</td><td>1.360070</td><td>1.784313</td><td>1.472370</td><td>1.023172</td></tr>\n",
       "\t<tr><th scope=row>121</th><td>2</td><td>almirante tamandare</td><td>1.2255405</td><td>0.9470086</td><td>1.1559075</td><td>0.8216692</td><td>0.9748618</td><td>0.7241830</td><td>0.7102564</td><td>1.0444948</td><td>...</td><td>1.622102</td><td>1.509803</td><td>1.472370</td><td>1.172905</td><td>1.185382</td><td>1.360070</td><td>1.360070</td><td>1.784313</td><td>1.472370</td><td>1.023172</td></tr>\n",
       "\t<tr><th scope=row>133</th><td>2</td><td>araucaria          </td><td>1.2255405</td><td>0.9470086</td><td>1.1559075</td><td>0.8216692</td><td>0.9748618</td><td>0.7241830</td><td>0.7102564</td><td>1.0444948</td><td>...</td><td>1.622102</td><td>1.509803</td><td>1.472370</td><td>1.172905</td><td>1.185382</td><td>1.360070</td><td>1.360070</td><td>1.784313</td><td>1.472370</td><td>1.023172</td></tr>\n",
       "\t<tr><th scope=row>145</th><td>2</td><td>balsa nova         </td><td>1.2255405</td><td>0.9470086</td><td>1.1559075</td><td>0.8216692</td><td>0.9748618</td><td>0.7241830</td><td>0.7102564</td><td>1.0444948</td><td>...</td><td>1.622102</td><td>1.509803</td><td>1.472370</td><td>1.172905</td><td>1.185382</td><td>1.360070</td><td>1.360070</td><td>1.784313</td><td>1.472370</td><td>1.023172</td></tr>\n",
       "</tbody>\n",
       "</table>\n"
      ],
      "text/latex": [
       "A data.frame: 6 × 98\n",
       "\\begin{tabular}{r|lllllllllllllllllllll}\n",
       "  & aisp & municipio & SIR.2012-01-01 & SIR.2012-02-01 & SIR.2012-03-01 & SIR.2012-04-01 & SIR.2012-05-01 & SIR.2012-06-01 & SIR.2012-07-01 & SIR.2012-08-01 & ... & SIR.2019-03-01 & SIR.2019-04-01 & SIR.2019-05-01 & SIR.2019-06-01 & SIR.2019-07-01 & SIR.2019-08-01 & SIR.2019-09-01 & SIR.2019-10-01 & SIR.2019-11-01 & SIR.2019-12-01\\\\\n",
       "  & <int> & <chr> & <dbl> & <dbl> & <dbl> & <dbl> & <dbl> & <dbl> & <dbl> & <dbl> & ... & <dbl> & <dbl> & <dbl> & <dbl> & <dbl> & <dbl> & <dbl> & <dbl> & <dbl> & <dbl>\\\\\n",
       "\\hline\n",
       "\t1 & 1 & curitiba            & 0.6617875 & 0.7594283 & 0.5858447 & 0.5207509 & 0.5424488 & 0.5749957 & 0.5532978 & 0.6617875 & ... & 1.275759 & 1.347201 & 1.071637 & 1.020607 & 1.112462 & 1.255347 & 1.285965 & 1.428850 & 1.275759 & 1.030813\\\\\n",
       "\t97 & 2 & adrianopolis        & 1.2255405 & 0.9470086 & 1.1559075 & 0.8216692 & 0.9748618 & 0.7241830 & 0.7102564 & 1.0444948 & ... & 1.622102 & 1.509803 & 1.472370 & 1.172905 & 1.185382 & 1.360070 & 1.360070 & 1.784313 & 1.472370 & 1.023172\\\\\n",
       "\t109 & 2 & agudos do sul       & 1.2255405 & 0.9470086 & 1.1559075 & 0.8216692 & 0.9748618 & 0.7241830 & 0.7102564 & 1.0444948 & ... & 1.622102 & 1.509803 & 1.472370 & 1.172905 & 1.185382 & 1.360070 & 1.360070 & 1.784313 & 1.472370 & 1.023172\\\\\n",
       "\t121 & 2 & almirante tamandare & 1.2255405 & 0.9470086 & 1.1559075 & 0.8216692 & 0.9748618 & 0.7241830 & 0.7102564 & 1.0444948 & ... & 1.622102 & 1.509803 & 1.472370 & 1.172905 & 1.185382 & 1.360070 & 1.360070 & 1.784313 & 1.472370 & 1.023172\\\\\n",
       "\t133 & 2 & araucaria           & 1.2255405 & 0.9470086 & 1.1559075 & 0.8216692 & 0.9748618 & 0.7241830 & 0.7102564 & 1.0444948 & ... & 1.622102 & 1.509803 & 1.472370 & 1.172905 & 1.185382 & 1.360070 & 1.360070 & 1.784313 & 1.472370 & 1.023172\\\\\n",
       "\t145 & 2 & balsa nova          & 1.2255405 & 0.9470086 & 1.1559075 & 0.8216692 & 0.9748618 & 0.7241830 & 0.7102564 & 1.0444948 & ... & 1.622102 & 1.509803 & 1.472370 & 1.172905 & 1.185382 & 1.360070 & 1.360070 & 1.784313 & 1.472370 & 1.023172\\\\\n",
       "\\end{tabular}\n"
      ],
      "text/markdown": [
       "\n",
       "A data.frame: 6 × 98\n",
       "\n",
       "| <!--/--> | aisp &lt;int&gt; | municipio &lt;chr&gt; | SIR.2012-01-01 &lt;dbl&gt; | SIR.2012-02-01 &lt;dbl&gt; | SIR.2012-03-01 &lt;dbl&gt; | SIR.2012-04-01 &lt;dbl&gt; | SIR.2012-05-01 &lt;dbl&gt; | SIR.2012-06-01 &lt;dbl&gt; | SIR.2012-07-01 &lt;dbl&gt; | SIR.2012-08-01 &lt;dbl&gt; | ... ... | SIR.2019-03-01 &lt;dbl&gt; | SIR.2019-04-01 &lt;dbl&gt; | SIR.2019-05-01 &lt;dbl&gt; | SIR.2019-06-01 &lt;dbl&gt; | SIR.2019-07-01 &lt;dbl&gt; | SIR.2019-08-01 &lt;dbl&gt; | SIR.2019-09-01 &lt;dbl&gt; | SIR.2019-10-01 &lt;dbl&gt; | SIR.2019-11-01 &lt;dbl&gt; | SIR.2019-12-01 &lt;dbl&gt; |\n",
       "|---|---|---|---|---|---|---|---|---|---|---|---|---|---|---|---|---|---|---|---|---|---|\n",
       "| 1 | 1 | curitiba            | 0.6617875 | 0.7594283 | 0.5858447 | 0.5207509 | 0.5424488 | 0.5749957 | 0.5532978 | 0.6617875 | ... | 1.275759 | 1.347201 | 1.071637 | 1.020607 | 1.112462 | 1.255347 | 1.285965 | 1.428850 | 1.275759 | 1.030813 |\n",
       "| 97 | 2 | adrianopolis        | 1.2255405 | 0.9470086 | 1.1559075 | 0.8216692 | 0.9748618 | 0.7241830 | 0.7102564 | 1.0444948 | ... | 1.622102 | 1.509803 | 1.472370 | 1.172905 | 1.185382 | 1.360070 | 1.360070 | 1.784313 | 1.472370 | 1.023172 |\n",
       "| 109 | 2 | agudos do sul       | 1.2255405 | 0.9470086 | 1.1559075 | 0.8216692 | 0.9748618 | 0.7241830 | 0.7102564 | 1.0444948 | ... | 1.622102 | 1.509803 | 1.472370 | 1.172905 | 1.185382 | 1.360070 | 1.360070 | 1.784313 | 1.472370 | 1.023172 |\n",
       "| 121 | 2 | almirante tamandare | 1.2255405 | 0.9470086 | 1.1559075 | 0.8216692 | 0.9748618 | 0.7241830 | 0.7102564 | 1.0444948 | ... | 1.622102 | 1.509803 | 1.472370 | 1.172905 | 1.185382 | 1.360070 | 1.360070 | 1.784313 | 1.472370 | 1.023172 |\n",
       "| 133 | 2 | araucaria           | 1.2255405 | 0.9470086 | 1.1559075 | 0.8216692 | 0.9748618 | 0.7241830 | 0.7102564 | 1.0444948 | ... | 1.622102 | 1.509803 | 1.472370 | 1.172905 | 1.185382 | 1.360070 | 1.360070 | 1.784313 | 1.472370 | 1.023172 |\n",
       "| 145 | 2 | balsa nova          | 1.2255405 | 0.9470086 | 1.1559075 | 0.8216692 | 0.9748618 | 0.7241830 | 0.7102564 | 1.0444948 | ... | 1.622102 | 1.509803 | 1.472370 | 1.172905 | 1.185382 | 1.360070 | 1.360070 | 1.784313 | 1.472370 | 1.023172 |\n",
       "\n"
      ],
      "text/plain": [
       "    aisp municipio           SIR.2012-01-01 SIR.2012-02-01 SIR.2012-03-01\n",
       "1   1    curitiba            0.6617875      0.7594283      0.5858447     \n",
       "97  2    adrianopolis        1.2255405      0.9470086      1.1559075     \n",
       "109 2    agudos do sul       1.2255405      0.9470086      1.1559075     \n",
       "121 2    almirante tamandare 1.2255405      0.9470086      1.1559075     \n",
       "133 2    araucaria           1.2255405      0.9470086      1.1559075     \n",
       "145 2    balsa nova          1.2255405      0.9470086      1.1559075     \n",
       "    SIR.2012-04-01 SIR.2012-05-01 SIR.2012-06-01 SIR.2012-07-01 SIR.2012-08-01\n",
       "1   0.5207509      0.5424488      0.5749957      0.5532978      0.6617875     \n",
       "97  0.8216692      0.9748618      0.7241830      0.7102564      1.0444948     \n",
       "109 0.8216692      0.9748618      0.7241830      0.7102564      1.0444948     \n",
       "121 0.8216692      0.9748618      0.7241830      0.7102564      1.0444948     \n",
       "133 0.8216692      0.9748618      0.7241830      0.7102564      1.0444948     \n",
       "145 0.8216692      0.9748618      0.7241830      0.7102564      1.0444948     \n",
       "    ... SIR.2019-03-01 SIR.2019-04-01 SIR.2019-05-01 SIR.2019-06-01\n",
       "1   ... 1.275759       1.347201       1.071637       1.020607      \n",
       "97  ... 1.622102       1.509803       1.472370       1.172905      \n",
       "109 ... 1.622102       1.509803       1.472370       1.172905      \n",
       "121 ... 1.622102       1.509803       1.472370       1.172905      \n",
       "133 ... 1.622102       1.509803       1.472370       1.172905      \n",
       "145 ... 1.622102       1.509803       1.472370       1.172905      \n",
       "    SIR.2019-07-01 SIR.2019-08-01 SIR.2019-09-01 SIR.2019-10-01 SIR.2019-11-01\n",
       "1   1.112462       1.255347       1.285965       1.428850       1.275759      \n",
       "97  1.185382       1.360070       1.360070       1.784313       1.472370      \n",
       "109 1.185382       1.360070       1.360070       1.784313       1.472370      \n",
       "121 1.185382       1.360070       1.360070       1.784313       1.472370      \n",
       "133 1.185382       1.360070       1.360070       1.784313       1.472370      \n",
       "145 1.185382       1.360070       1.360070       1.784313       1.472370      \n",
       "    SIR.2019-12-01\n",
       "1   1.030813      \n",
       "97  1.023172      \n",
       "109 1.023172      \n",
       "121 1.023172      \n",
       "133 1.023172      \n",
       "145 1.023172      "
      ]
     },
     "metadata": {},
     "output_type": "display_data"
    }
   ],
   "source": [
    "a <- df %>% ungroup() %>% select(c('aisp', 'municipio', 'SIR', 'date'))\n",
    "dw <- reshape(as.data.frame(a),\n",
    "                timevar = \"date\",\n",
    "                idvar = c(\"municipio\"),\n",
    "                v.names = c('SIR'),\n",
    "                direction = \"wide\")\n",
    "\n",
    "dim(dw)\n",
    "head(dw)"
   ]
  },
  {
   "cell_type": "code",
   "execution_count": 10,
   "id": "58e354bd-8b6b-402d-a3f4-4e4cf56b83cb",
   "metadata": {},
   "outputs": [
    {
     "data": {
      "text/html": [
       "<style>\n",
       ".list-inline {list-style: none; margin:0; padding: 0}\n",
       ".list-inline>li {display: inline-block}\n",
       ".list-inline>li:not(:last-child)::after {content: \"\\00b7\"; padding: 0 .5ex}\n",
       "</style>\n",
       "<ol class=list-inline><li>399</li><li>100</li></ol>\n"
      ],
      "text/latex": [
       "\\begin{enumerate*}\n",
       "\\item 399\n",
       "\\item 100\n",
       "\\end{enumerate*}\n"
      ],
      "text/markdown": [
       "1. 399\n",
       "2. 100\n",
       "\n",
       "\n"
      ],
      "text/plain": [
       "[1] 399 100"
      ]
     },
     "metadata": {},
     "output_type": "display_data"
    },
    {
     "data": {
      "text/html": [
       "<table class=\"dataframe\">\n",
       "<caption>A data.frame: 6 × 100</caption>\n",
       "<thead>\n",
       "\t<tr><th></th><th scope=col>municipio</th><th scope=col>NM_MUNICIP</th><th scope=col>CD_GEOCMU</th><th scope=col>aisp</th><th scope=col>SIR.2012-01-01</th><th scope=col>SIR.2012-02-01</th><th scope=col>SIR.2012-03-01</th><th scope=col>SIR.2012-04-01</th><th scope=col>SIR.2012-05-01</th><th scope=col>SIR.2012-06-01</th><th scope=col>...</th><th scope=col>SIR.2019-03-01</th><th scope=col>SIR.2019-04-01</th><th scope=col>SIR.2019-05-01</th><th scope=col>SIR.2019-06-01</th><th scope=col>SIR.2019-07-01</th><th scope=col>SIR.2019-08-01</th><th scope=col>SIR.2019-09-01</th><th scope=col>SIR.2019-10-01</th><th scope=col>SIR.2019-11-01</th><th scope=col>SIR.2019-12-01</th></tr>\n",
       "\t<tr><th></th><th scope=col>&lt;chr&gt;</th><th scope=col>&lt;chr&gt;</th><th scope=col>&lt;chr&gt;</th><th scope=col>&lt;int&gt;</th><th scope=col>&lt;dbl&gt;</th><th scope=col>&lt;dbl&gt;</th><th scope=col>&lt;dbl&gt;</th><th scope=col>&lt;dbl&gt;</th><th scope=col>&lt;dbl&gt;</th><th scope=col>&lt;dbl&gt;</th><th scope=col>...</th><th scope=col>&lt;dbl&gt;</th><th scope=col>&lt;dbl&gt;</th><th scope=col>&lt;dbl&gt;</th><th scope=col>&lt;dbl&gt;</th><th scope=col>&lt;dbl&gt;</th><th scope=col>&lt;dbl&gt;</th><th scope=col>&lt;dbl&gt;</th><th scope=col>&lt;dbl&gt;</th><th scope=col>&lt;dbl&gt;</th><th scope=col>&lt;dbl&gt;</th></tr>\n",
       "</thead>\n",
       "<tbody>\n",
       "\t<tr><th scope=row>1</th><td>abatia             </td><td>ABATIÁ             </td><td>4100103</td><td>23</td><td>0.7352067</td><td>0.8688807</td><td>1.3367395</td><td>1.4704134</td><td>0.7352067</td><td>1.0693916</td><td>...</td><td>1.385886</td><td>1.781853</td><td>1.055913</td><td>1.319891</td><td>1.319891</td><td>1.847848</td><td>2.111826</td><td>2.639783</td><td>1.385886</td><td>1.7158587</td></tr>\n",
       "\t<tr><th scope=row>2</th><td>adrianopolis       </td><td>ADRIANÓPOLIS       </td><td>4100202</td><td> 2</td><td>1.2255405</td><td>0.9470086</td><td>1.1559075</td><td>0.8216692</td><td>0.9748618</td><td>0.7241830</td><td>...</td><td>1.622102</td><td>1.509803</td><td>1.472370</td><td>1.172905</td><td>1.185382</td><td>1.360070</td><td>1.360070</td><td>1.784313</td><td>1.472370</td><td>1.0231722</td></tr>\n",
       "\t<tr><th scope=row>3</th><td>agudos do sul      </td><td>AGUDOS DO SUL      </td><td>4100301</td><td> 2</td><td>1.2255405</td><td>0.9470086</td><td>1.1559075</td><td>0.8216692</td><td>0.9748618</td><td>0.7241830</td><td>...</td><td>1.622102</td><td>1.509803</td><td>1.472370</td><td>1.172905</td><td>1.185382</td><td>1.360070</td><td>1.360070</td><td>1.784313</td><td>1.472370</td><td>1.0231722</td></tr>\n",
       "\t<tr><th scope=row>4</th><td>almirante tamandare</td><td>ALMIRANTE TAMANDARÉ</td><td>4100400</td><td> 2</td><td>1.2255405</td><td>0.9470086</td><td>1.1559075</td><td>0.8216692</td><td>0.9748618</td><td>0.7241830</td><td>...</td><td>1.622102</td><td>1.509803</td><td>1.472370</td><td>1.172905</td><td>1.185382</td><td>1.360070</td><td>1.360070</td><td>1.784313</td><td>1.472370</td><td>1.0231722</td></tr>\n",
       "\t<tr><th scope=row>5</th><td>altamira do parana </td><td>ALTAMIRA DO PARANÁ </td><td>4100459</td><td>14</td><td>1.4674459</td><td>0.6072190</td><td>0.7590238</td><td>0.5566174</td><td>0.8096253</td><td>0.5060158</td><td>...</td><td>1.358608</td><td>1.861796</td><td>1.912115</td><td>1.056695</td><td>1.660521</td><td>1.660521</td><td>1.610202</td><td>1.912115</td><td>1.912115</td><td>1.5095646</td></tr>\n",
       "\t<tr><th scope=row>6</th><td>alto paraiso       </td><td>ALTO PARAÍSO       </td><td>4128625</td><td>15</td><td>0.4281904</td><td>0.5352379</td><td>0.9099045</td><td>0.8563807</td><td>0.5352379</td><td>0.5352379</td><td>...</td><td>1.425123</td><td>1.583470</td><td>1.477906</td><td>1.319559</td><td>1.425123</td><td>1.213994</td><td>1.266776</td><td>1.636253</td><td>1.689035</td><td>0.8972998</td></tr>\n",
       "</tbody>\n",
       "</table>\n"
      ],
      "text/latex": [
       "A data.frame: 6 × 100\n",
       "\\begin{tabular}{r|lllllllllllllllllllll}\n",
       "  & municipio & NM\\_MUNICIP & CD\\_GEOCMU & aisp & SIR.2012-01-01 & SIR.2012-02-01 & SIR.2012-03-01 & SIR.2012-04-01 & SIR.2012-05-01 & SIR.2012-06-01 & ... & SIR.2019-03-01 & SIR.2019-04-01 & SIR.2019-05-01 & SIR.2019-06-01 & SIR.2019-07-01 & SIR.2019-08-01 & SIR.2019-09-01 & SIR.2019-10-01 & SIR.2019-11-01 & SIR.2019-12-01\\\\\n",
       "  & <chr> & <chr> & <chr> & <int> & <dbl> & <dbl> & <dbl> & <dbl> & <dbl> & <dbl> & ... & <dbl> & <dbl> & <dbl> & <dbl> & <dbl> & <dbl> & <dbl> & <dbl> & <dbl> & <dbl>\\\\\n",
       "\\hline\n",
       "\t1 & abatia              & ABATIÁ              & 4100103 & 23 & 0.7352067 & 0.8688807 & 1.3367395 & 1.4704134 & 0.7352067 & 1.0693916 & ... & 1.385886 & 1.781853 & 1.055913 & 1.319891 & 1.319891 & 1.847848 & 2.111826 & 2.639783 & 1.385886 & 1.7158587\\\\\n",
       "\t2 & adrianopolis        & ADRIANÓPOLIS        & 4100202 &  2 & 1.2255405 & 0.9470086 & 1.1559075 & 0.8216692 & 0.9748618 & 0.7241830 & ... & 1.622102 & 1.509803 & 1.472370 & 1.172905 & 1.185382 & 1.360070 & 1.360070 & 1.784313 & 1.472370 & 1.0231722\\\\\n",
       "\t3 & agudos do sul       & AGUDOS DO SUL       & 4100301 &  2 & 1.2255405 & 0.9470086 & 1.1559075 & 0.8216692 & 0.9748618 & 0.7241830 & ... & 1.622102 & 1.509803 & 1.472370 & 1.172905 & 1.185382 & 1.360070 & 1.360070 & 1.784313 & 1.472370 & 1.0231722\\\\\n",
       "\t4 & almirante tamandare & ALMIRANTE TAMANDARÉ & 4100400 &  2 & 1.2255405 & 0.9470086 & 1.1559075 & 0.8216692 & 0.9748618 & 0.7241830 & ... & 1.622102 & 1.509803 & 1.472370 & 1.172905 & 1.185382 & 1.360070 & 1.360070 & 1.784313 & 1.472370 & 1.0231722\\\\\n",
       "\t5 & altamira do parana  & ALTAMIRA DO PARANÁ  & 4100459 & 14 & 1.4674459 & 0.6072190 & 0.7590238 & 0.5566174 & 0.8096253 & 0.5060158 & ... & 1.358608 & 1.861796 & 1.912115 & 1.056695 & 1.660521 & 1.660521 & 1.610202 & 1.912115 & 1.912115 & 1.5095646\\\\\n",
       "\t6 & alto paraiso        & ALTO PARAÍSO        & 4128625 & 15 & 0.4281904 & 0.5352379 & 0.9099045 & 0.8563807 & 0.5352379 & 0.5352379 & ... & 1.425123 & 1.583470 & 1.477906 & 1.319559 & 1.425123 & 1.213994 & 1.266776 & 1.636253 & 1.689035 & 0.8972998\\\\\n",
       "\\end{tabular}\n"
      ],
      "text/markdown": [
       "\n",
       "A data.frame: 6 × 100\n",
       "\n",
       "| <!--/--> | municipio &lt;chr&gt; | NM_MUNICIP &lt;chr&gt; | CD_GEOCMU &lt;chr&gt; | aisp &lt;int&gt; | SIR.2012-01-01 &lt;dbl&gt; | SIR.2012-02-01 &lt;dbl&gt; | SIR.2012-03-01 &lt;dbl&gt; | SIR.2012-04-01 &lt;dbl&gt; | SIR.2012-05-01 &lt;dbl&gt; | SIR.2012-06-01 &lt;dbl&gt; | ... ... | SIR.2019-03-01 &lt;dbl&gt; | SIR.2019-04-01 &lt;dbl&gt; | SIR.2019-05-01 &lt;dbl&gt; | SIR.2019-06-01 &lt;dbl&gt; | SIR.2019-07-01 &lt;dbl&gt; | SIR.2019-08-01 &lt;dbl&gt; | SIR.2019-09-01 &lt;dbl&gt; | SIR.2019-10-01 &lt;dbl&gt; | SIR.2019-11-01 &lt;dbl&gt; | SIR.2019-12-01 &lt;dbl&gt; |\n",
       "|---|---|---|---|---|---|---|---|---|---|---|---|---|---|---|---|---|---|---|---|---|---|\n",
       "| 1 | abatia              | ABATIÁ              | 4100103 | 23 | 0.7352067 | 0.8688807 | 1.3367395 | 1.4704134 | 0.7352067 | 1.0693916 | ... | 1.385886 | 1.781853 | 1.055913 | 1.319891 | 1.319891 | 1.847848 | 2.111826 | 2.639783 | 1.385886 | 1.7158587 |\n",
       "| 2 | adrianopolis        | ADRIANÓPOLIS        | 4100202 |  2 | 1.2255405 | 0.9470086 | 1.1559075 | 0.8216692 | 0.9748618 | 0.7241830 | ... | 1.622102 | 1.509803 | 1.472370 | 1.172905 | 1.185382 | 1.360070 | 1.360070 | 1.784313 | 1.472370 | 1.0231722 |\n",
       "| 3 | agudos do sul       | AGUDOS DO SUL       | 4100301 |  2 | 1.2255405 | 0.9470086 | 1.1559075 | 0.8216692 | 0.9748618 | 0.7241830 | ... | 1.622102 | 1.509803 | 1.472370 | 1.172905 | 1.185382 | 1.360070 | 1.360070 | 1.784313 | 1.472370 | 1.0231722 |\n",
       "| 4 | almirante tamandare | ALMIRANTE TAMANDARÉ | 4100400 |  2 | 1.2255405 | 0.9470086 | 1.1559075 | 0.8216692 | 0.9748618 | 0.7241830 | ... | 1.622102 | 1.509803 | 1.472370 | 1.172905 | 1.185382 | 1.360070 | 1.360070 | 1.784313 | 1.472370 | 1.0231722 |\n",
       "| 5 | altamira do parana  | ALTAMIRA DO PARANÁ  | 4100459 | 14 | 1.4674459 | 0.6072190 | 0.7590238 | 0.5566174 | 0.8096253 | 0.5060158 | ... | 1.358608 | 1.861796 | 1.912115 | 1.056695 | 1.660521 | 1.660521 | 1.610202 | 1.912115 | 1.912115 | 1.5095646 |\n",
       "| 6 | alto paraiso        | ALTO PARAÍSO        | 4128625 | 15 | 0.4281904 | 0.5352379 | 0.9099045 | 0.8563807 | 0.5352379 | 0.5352379 | ... | 1.425123 | 1.583470 | 1.477906 | 1.319559 | 1.425123 | 1.213994 | 1.266776 | 1.636253 | 1.689035 | 0.8972998 |\n",
       "\n"
      ],
      "text/plain": [
       "  municipio           NM_MUNICIP          CD_GEOCMU aisp SIR.2012-01-01\n",
       "1 abatia              ABATIÁ              4100103   23   0.7352067     \n",
       "2 adrianopolis        ADRIANÓPOLIS        4100202    2   1.2255405     \n",
       "3 agudos do sul       AGUDOS DO SUL       4100301    2   1.2255405     \n",
       "4 almirante tamandare ALMIRANTE TAMANDARÉ 4100400    2   1.2255405     \n",
       "5 altamira do parana  ALTAMIRA DO PARANÁ  4100459   14   1.4674459     \n",
       "6 alto paraiso        ALTO PARAÍSO        4128625   15   0.4281904     \n",
       "  SIR.2012-02-01 SIR.2012-03-01 SIR.2012-04-01 SIR.2012-05-01 SIR.2012-06-01\n",
       "1 0.8688807      1.3367395      1.4704134      0.7352067      1.0693916     \n",
       "2 0.9470086      1.1559075      0.8216692      0.9748618      0.7241830     \n",
       "3 0.9470086      1.1559075      0.8216692      0.9748618      0.7241830     \n",
       "4 0.9470086      1.1559075      0.8216692      0.9748618      0.7241830     \n",
       "5 0.6072190      0.7590238      0.5566174      0.8096253      0.5060158     \n",
       "6 0.5352379      0.9099045      0.8563807      0.5352379      0.5352379     \n",
       "  ... SIR.2019-03-01 SIR.2019-04-01 SIR.2019-05-01 SIR.2019-06-01\n",
       "1 ... 1.385886       1.781853       1.055913       1.319891      \n",
       "2 ... 1.622102       1.509803       1.472370       1.172905      \n",
       "3 ... 1.622102       1.509803       1.472370       1.172905      \n",
       "4 ... 1.622102       1.509803       1.472370       1.172905      \n",
       "5 ... 1.358608       1.861796       1.912115       1.056695      \n",
       "6 ... 1.425123       1.583470       1.477906       1.319559      \n",
       "  SIR.2019-07-01 SIR.2019-08-01 SIR.2019-09-01 SIR.2019-10-01 SIR.2019-11-01\n",
       "1 1.319891       1.847848       2.111826       2.639783       1.385886      \n",
       "2 1.185382       1.360070       1.360070       1.784313       1.472370      \n",
       "3 1.185382       1.360070       1.360070       1.784313       1.472370      \n",
       "4 1.185382       1.360070       1.360070       1.784313       1.472370      \n",
       "5 1.660521       1.660521       1.610202       1.912115       1.912115      \n",
       "6 1.425123       1.213994       1.266776       1.636253       1.689035      \n",
       "  SIR.2019-12-01\n",
       "1 1.7158587     \n",
       "2 1.0231722     \n",
       "3 1.0231722     \n",
       "4 1.0231722     \n",
       "5 1.5095646     \n",
       "6 0.8972998     "
      ]
     },
     "metadata": {},
     "output_type": "display_data"
    }
   ],
   "source": [
    "pr <- merge(pr, dw, by = \"municipio\")\n",
    "dim(pr@data)\n",
    "head(pr@data)"
   ]
  },
  {
   "cell_type": "code",
   "execution_count": 11,
   "id": "4a9ab998-44dc-498d-890b-74ed61e2d277",
   "metadata": {},
   "outputs": [
    {
     "name": "stderr",
     "output_type": "stream",
     "text": [
      "Linking to GEOS 3.9.0, GDAL 3.2.1, PROJ 7.2.1\n",
      "\n"
     ]
    }
   ],
   "source": [
    "library(sf)\n",
    "map_sf <- st_as_sf(pr)"
   ]
  },
  {
   "cell_type": "raw",
   "id": "b9cadb72-db34-495c-83ed-dd54471c7476",
   "metadata": {},
   "source": [
    "library(ggplot2)\n",
    "library(RColorBrewer)\n",
    "\n",
    "pal <- colorRampPalette(brewer.pal(12,\"Paired\"))(23)\n",
    "AISP = as.factor(map_sf$aisp)\n",
    "\n",
    "ggplot(map_sf) + geom_sf(aes(fill = AISP)) +\n",
    "    scale_fill_manual(values = pal) +\n",
    "    theme_bw() + theme_minimal() +\n",
    "theme(\n",
    "axis.text.x = element_blank(),\n",
    "axis.text.y = element_blank(),\n",
    "axis.ticks = element_blank()\n",
    ")\n",
    "\n",
    "ggsave(filename = paste0(\"AISP.png\"), path = \"./Figuras/\", width = 11, height = 6, device = \"png\", dpi = 300)\n",
    "    "
   ]
  },
  {
   "cell_type": "code",
   "execution_count": 12,
   "id": "1ea1117d-8ed0-42a9-830e-42547d68b259",
   "metadata": {
    "tags": []
   },
   "outputs": [],
   "source": [
    "library(tidyr)\n",
    "map_sf <- gather(map_sf, date, SIR, paste0(\"SIR.\", df$date))"
   ]
  },
  {
   "cell_type": "code",
   "execution_count": 13,
   "id": "a412b853-d242-453d-909f-33da1aa12f00",
   "metadata": {},
   "outputs": [],
   "source": [
    "library(lubridate)\n",
    "\n",
    "map_sf$date <- as.Date(sub('SIR.', '', map_sf$date))\n",
    "map_sf$mes <- month(map_sf$date, label = TRUE, abbr = FALSE)"
   ]
  },
  {
   "cell_type": "code",
   "execution_count": null,
   "id": "2a588474-541e-4f82-aad9-cc1ba5987122",
   "metadata": {
    "tags": []
   },
   "outputs": [
    {
     "name": "stderr",
     "output_type": "stream",
     "text": [
      "Saving 10 x 10 in image\n",
      "\n"
     ]
    }
   ],
   "source": [
    "library(ggplot2)\n",
    "\n",
    "graf <- subset(map_sf, year(map_sf$date) == 2018)\n",
    "ggplot(graf) + geom_sf(aes(fill = SIR)) +\n",
    "facet_wrap(~mes, dir = \"h\", ncol = 3) +\n",
    "theme_bw() + theme_minimal() +\n",
    "theme(\n",
    "axis.text.x = element_blank(),\n",
    "axis.text.y = element_blank(),\n",
    "axis.ticks = element_blank() \n",
    ") + theme(strip.text = element_text(size=12),\n",
    "         legend.title = element_text(size=12),\n",
    "         legend.text = element_text(size=12)) + \n",
    "scale_fill_steps2(midpoint = 1, low = \"#2564ac\", mid = \"#f7f7f7\", high = \"#b31b2b\") \n",
    "\n",
    "ggsave(filename = paste0(\"SIR_\", year(graf$date), \".jpeg\"), path = \"./Figuras/Mapas/SIR\", scale = 1.5, device = \"jpeg\", dpi = 300)\n"
   ]
  },
  {
   "cell_type": "code",
   "execution_count": 15,
   "id": "978b113c-6cb5-45d6-a76a-1d65996e8d6b",
   "metadata": {
    "tags": []
   },
   "outputs": [
    {
     "name": "stderr",
     "output_type": "stream",
     "text": [
      "Carregando pacotes exigidos: Matrix\n",
      "\n",
      "\n",
      "Attaching package: 'Matrix'\n",
      "\n",
      "\n",
      "The following objects are masked from 'package:tidyr':\n",
      "\n",
      "    expand, pack, unpack\n",
      "\n",
      "\n",
      "Carregando pacotes exigidos: foreach\n",
      "\n",
      "Carregando pacotes exigidos: parallel\n",
      "\n",
      "This is INLA_21.02.23 built 2021-06-18 14:37:35 UTC.\n",
      " - See www.r-inla.org/contact-us for how to get help.\n",
      " - Save 379.7Mb of storage running 'inla.prune()'\n",
      "\n",
      "Carregando pacotes exigidos: spData\n",
      "\n",
      "To access larger datasets in this package, install the spDataLarge\n",
      "package with: `install.packages('spDataLarge',\n",
      "repos='https://nowosad.github.io/drat/', type='source')`\n",
      "\n"
     ]
    }
   ],
   "source": [
    "library(INLA)\n",
    "library(spdep)\n",
    "\n",
    "nb <- poly2nb(pr)"
   ]
  },
  {
   "cell_type": "code",
   "execution_count": 16,
   "id": "ff4fd1e4-472d-4d7c-af65-378f49e5a570",
   "metadata": {},
   "outputs": [],
   "source": [
    "nb2INLA(\"map.adj\", nb)\n",
    "g <- inla.read.graph(filename = \"map.adj\")"
   ]
  },
  {
   "cell_type": "code",
   "execution_count": 17,
   "id": "2fb7c590-76d7-48ec-a5b7-cfd491979538",
   "metadata": {},
   "outputs": [
    {
     "data": {
      "image/png": "[encoded data removed]",
      "text/plain": [
       "plot without title"
      ]
     },
     "metadata": {
      "image/png": {
       "height": 420,
       "width": 420
      }
     },
     "output_type": "display_data"
    }
   ],
   "source": [
    "plot(pr,border=\"gray\")\n",
    "plot(nb, coordinates(pr), add=TRUE, col=\"blue\", pch=\",\")##Grafo de vizinhança\n",
    "\n"
   ]
  },
  {
   "cell_type": "code",
   "execution_count": 18,
   "id": "0bded462-8e03-4ef2-982e-125bdc10c6dd",
   "metadata": {},
   "outputs": [],
   "source": [
    "df$idarea <- as.numeric(df$aisp)\n",
    "df$idarea1 <- df$idarea\n",
    "df$idtime <- as.numeric(as.factor(df$date))"
   ]
  },
  {
   "cell_type": "code",
   "execution_count": 19,
   "id": "8c3993a1-b409-41a7-b421-c57ba964a555",
   "metadata": {},
   "outputs": [
    {
     "data": {
      "text/html": [
       "<table class=\"dataframe\">\n",
       "<caption>A data.frame: 2 × 100</caption>\n",
       "<thead>\n",
       "\t<tr><th></th><th scope=col>municipio</th><th scope=col>NM_MUNICIP</th><th scope=col>CD_GEOCMU</th><th scope=col>aisp</th><th scope=col>SIR.2012-01-01</th><th scope=col>SIR.2012-02-01</th><th scope=col>SIR.2012-03-01</th><th scope=col>SIR.2012-04-01</th><th scope=col>SIR.2012-05-01</th><th scope=col>SIR.2012-06-01</th><th scope=col>...</th><th scope=col>SIR.2019-03-01</th><th scope=col>SIR.2019-04-01</th><th scope=col>SIR.2019-05-01</th><th scope=col>SIR.2019-06-01</th><th scope=col>SIR.2019-07-01</th><th scope=col>SIR.2019-08-01</th><th scope=col>SIR.2019-09-01</th><th scope=col>SIR.2019-10-01</th><th scope=col>SIR.2019-11-01</th><th scope=col>SIR.2019-12-01</th></tr>\n",
       "\t<tr><th></th><th scope=col>&lt;chr&gt;</th><th scope=col>&lt;chr&gt;</th><th scope=col>&lt;chr&gt;</th><th scope=col>&lt;int&gt;</th><th scope=col>&lt;dbl&gt;</th><th scope=col>&lt;dbl&gt;</th><th scope=col>&lt;dbl&gt;</th><th scope=col>&lt;dbl&gt;</th><th scope=col>&lt;dbl&gt;</th><th scope=col>&lt;dbl&gt;</th><th scope=col>...</th><th scope=col>&lt;dbl&gt;</th><th scope=col>&lt;dbl&gt;</th><th scope=col>&lt;dbl&gt;</th><th scope=col>&lt;dbl&gt;</th><th scope=col>&lt;dbl&gt;</th><th scope=col>&lt;dbl&gt;</th><th scope=col>&lt;dbl&gt;</th><th scope=col>&lt;dbl&gt;</th><th scope=col>&lt;dbl&gt;</th><th scope=col>&lt;dbl&gt;</th></tr>\n",
       "</thead>\n",
       "<tbody>\n",
       "\t<tr><th scope=row>1</th><td>abatia      </td><td>ABATIÁ      </td><td>4100103</td><td>23</td><td>0.7352067</td><td>0.8688807</td><td>1.336739</td><td>1.4704134</td><td>0.7352067</td><td>1.069392</td><td>...</td><td>1.385886</td><td>1.781853</td><td>1.055913</td><td>1.319891</td><td>1.319891</td><td>1.847848</td><td>2.111826</td><td>2.639783</td><td>1.385886</td><td>1.715859</td></tr>\n",
       "\t<tr><th scope=row>2</th><td>adrianopolis</td><td>ADRIANÓPOLIS</td><td>4100202</td><td> 2</td><td>1.2255405</td><td>0.9470086</td><td>1.155908</td><td>0.8216692</td><td>0.9748618</td><td>0.724183</td><td>...</td><td>1.622102</td><td>1.509803</td><td>1.472370</td><td>1.172905</td><td>1.185382</td><td>1.360070</td><td>1.360070</td><td>1.784313</td><td>1.472370</td><td>1.023172</td></tr>\n",
       "</tbody>\n",
       "</table>\n"
      ],
      "text/latex": [
       "A data.frame: 2 × 100\n",
       "\\begin{tabular}{r|lllllllllllllllllllll}\n",
       "  & municipio & NM\\_MUNICIP & CD\\_GEOCMU & aisp & SIR.2012-01-01 & SIR.2012-02-01 & SIR.2012-03-01 & SIR.2012-04-01 & SIR.2012-05-01 & SIR.2012-06-01 & ... & SIR.2019-03-01 & SIR.2019-04-01 & SIR.2019-05-01 & SIR.2019-06-01 & SIR.2019-07-01 & SIR.2019-08-01 & SIR.2019-09-01 & SIR.2019-10-01 & SIR.2019-11-01 & SIR.2019-12-01\\\\\n",
       "  & <chr> & <chr> & <chr> & <int> & <dbl> & <dbl> & <dbl> & <dbl> & <dbl> & <dbl> & ... & <dbl> & <dbl> & <dbl> & <dbl> & <dbl> & <dbl> & <dbl> & <dbl> & <dbl> & <dbl>\\\\\n",
       "\\hline\n",
       "\t1 & abatia       & ABATIÁ       & 4100103 & 23 & 0.7352067 & 0.8688807 & 1.336739 & 1.4704134 & 0.7352067 & 1.069392 & ... & 1.385886 & 1.781853 & 1.055913 & 1.319891 & 1.319891 & 1.847848 & 2.111826 & 2.639783 & 1.385886 & 1.715859\\\\\n",
       "\t2 & adrianopolis & ADRIANÓPOLIS & 4100202 &  2 & 1.2255405 & 0.9470086 & 1.155908 & 0.8216692 & 0.9748618 & 0.724183 & ... & 1.622102 & 1.509803 & 1.472370 & 1.172905 & 1.185382 & 1.360070 & 1.360070 & 1.784313 & 1.472370 & 1.023172\\\\\n",
       "\\end{tabular}\n"
      ],
      "text/markdown": [
       "\n",
       "A data.frame: 2 × 100\n",
       "\n",
       "| <!--/--> | municipio &lt;chr&gt; | NM_MUNICIP &lt;chr&gt; | CD_GEOCMU &lt;chr&gt; | aisp &lt;int&gt; | SIR.2012-01-01 &lt;dbl&gt; | SIR.2012-02-01 &lt;dbl&gt; | SIR.2012-03-01 &lt;dbl&gt; | SIR.2012-04-01 &lt;dbl&gt; | SIR.2012-05-01 &lt;dbl&gt; | SIR.2012-06-01 &lt;dbl&gt; | ... ... | SIR.2019-03-01 &lt;dbl&gt; | SIR.2019-04-01 &lt;dbl&gt; | SIR.2019-05-01 &lt;dbl&gt; | SIR.2019-06-01 &lt;dbl&gt; | SIR.2019-07-01 &lt;dbl&gt; | SIR.2019-08-01 &lt;dbl&gt; | SIR.2019-09-01 &lt;dbl&gt; | SIR.2019-10-01 &lt;dbl&gt; | SIR.2019-11-01 &lt;dbl&gt; | SIR.2019-12-01 &lt;dbl&gt; |\n",
       "|---|---|---|---|---|---|---|---|---|---|---|---|---|---|---|---|---|---|---|---|---|---|\n",
       "| 1 | abatia       | ABATIÁ       | 4100103 | 23 | 0.7352067 | 0.8688807 | 1.336739 | 1.4704134 | 0.7352067 | 1.069392 | ... | 1.385886 | 1.781853 | 1.055913 | 1.319891 | 1.319891 | 1.847848 | 2.111826 | 2.639783 | 1.385886 | 1.715859 |\n",
       "| 2 | adrianopolis | ADRIANÓPOLIS | 4100202 |  2 | 1.2255405 | 0.9470086 | 1.155908 | 0.8216692 | 0.9748618 | 0.724183 | ... | 1.622102 | 1.509803 | 1.472370 | 1.172905 | 1.185382 | 1.360070 | 1.360070 | 1.784313 | 1.472370 | 1.023172 |\n",
       "\n"
      ],
      "text/plain": [
       "  municipio    NM_MUNICIP   CD_GEOCMU aisp SIR.2012-01-01 SIR.2012-02-01\n",
       "1 abatia       ABATIÁ       4100103   23   0.7352067      0.8688807     \n",
       "2 adrianopolis ADRIANÓPOLIS 4100202    2   1.2255405      0.9470086     \n",
       "  SIR.2012-03-01 SIR.2012-04-01 SIR.2012-05-01 SIR.2012-06-01 ...\n",
       "1 1.336739       1.4704134      0.7352067      1.069392       ...\n",
       "2 1.155908       0.8216692      0.9748618      0.724183       ...\n",
       "  SIR.2019-03-01 SIR.2019-04-01 SIR.2019-05-01 SIR.2019-06-01 SIR.2019-07-01\n",
       "1 1.385886       1.781853       1.055913       1.319891       1.319891      \n",
       "2 1.622102       1.509803       1.472370       1.172905       1.185382      \n",
       "  SIR.2019-08-01 SIR.2019-09-01 SIR.2019-10-01 SIR.2019-11-01 SIR.2019-12-01\n",
       "1 1.847848       2.111826       2.639783       1.385886       1.715859      \n",
       "2 1.360070       1.360070       1.784313       1.472370       1.023172      "
      ]
     },
     "metadata": {},
     "output_type": "display_data"
    }
   ],
   "source": [
    "pr@data[1:2,]"
   ]
  },
  {
   "cell_type": "code",
   "execution_count": 20,
   "id": "c10ea13a-8f39-48b7-b69d-2bea325ca00e",
   "metadata": {},
   "outputs": [],
   "source": [
    "formula <- contagem ~ f(idarea, model = \"bym\", graph = g) + f(idarea1, idtime, model = \"iid\") + idtime"
   ]
  },
  {
   "cell_type": "code",
   "execution_count": 21,
   "id": "22ee62bb-88f8-4fb2-9eb9-d917d9212ecd",
   "metadata": {},
   "outputs": [],
   "source": [
    "res <- inla(formula, family = \"poisson\", data = df, E = E, control.predictor = list(compute = TRUE))"
   ]
  },
  {
   "cell_type": "code",
   "execution_count": 22,
   "id": "a37f55bf-5c49-49dc-9267-509061caee4f",
   "metadata": {
    "tags": []
   },
   "outputs": [],
   "source": [
    "df$RR <- res$summary.fitted.values[, \"mean\"]\n",
    "df$LL <- res$summary.fitted.values[, \"0.025quant\"]\n",
    "df$UL <- res$summary.fitted.values[, \"0.975quant\"]"
   ]
  },
  {
   "cell_type": "code",
   "execution_count": 23,
   "id": "47057129-2e82-47a5-988e-838b6daf87a3",
   "metadata": {},
   "outputs": [
    {
     "data": {
      "text/html": [
       "<table class=\"dataframe\">\n",
       "<caption>A data.frame: 6 × 6</caption>\n",
       "<thead>\n",
       "\t<tr><th></th><th scope=col>mean</th><th scope=col>sd</th><th scope=col>0.025quant</th><th scope=col>0.5quant</th><th scope=col>0.975quant</th><th scope=col>mode</th></tr>\n",
       "\t<tr><th></th><th scope=col>&lt;dbl&gt;</th><th scope=col>&lt;dbl&gt;</th><th scope=col>&lt;dbl&gt;</th><th scope=col>&lt;dbl&gt;</th><th scope=col>&lt;dbl&gt;</th><th scope=col>&lt;dbl&gt;</th></tr>\n",
       "</thead>\n",
       "<tbody>\n",
       "\t<tr><th scope=row>fitted.Predictor.00001</th><td>0.5331810</td><td>0.01393973</td><td>0.5063706</td><td>0.5330017</td><td>0.5610216</td><td>0.5326435</td></tr>\n",
       "\t<tr><th scope=row>fitted.Predictor.00002</th><td>0.5367880</td><td>0.01382847</td><td>0.5101840</td><td>0.5366128</td><td>0.5643990</td><td>0.5362627</td></tr>\n",
       "\t<tr><th scope=row>fitted.Predictor.00003</th><td>0.5403365</td><td>0.01371387</td><td>0.5139455</td><td>0.5401653</td><td>0.5677113</td><td>0.5398234</td></tr>\n",
       "\t<tr><th scope=row>fitted.Predictor.00004</th><td>0.5439420</td><td>0.01359896</td><td>0.5177648</td><td>0.5437748</td><td>0.5710801</td><td>0.5434409</td></tr>\n",
       "\t<tr><th scope=row>fitted.Predictor.00005</th><td>0.5475985</td><td>0.01348358</td><td>0.5216361</td><td>0.5474353</td><td>0.5744992</td><td>0.5471093</td></tr>\n",
       "\t<tr><th scope=row>fitted.Predictor.00006</th><td>0.5512831</td><td>0.01336718</td><td>0.5255377</td><td>0.5511238</td><td>0.5779446</td><td>0.5508056</td></tr>\n",
       "</tbody>\n",
       "</table>\n"
      ],
      "text/latex": [
       "A data.frame: 6 × 6\n",
       "\\begin{tabular}{r|llllll}\n",
       "  & mean & sd & 0.025quant & 0.5quant & 0.975quant & mode\\\\\n",
       "  & <dbl> & <dbl> & <dbl> & <dbl> & <dbl> & <dbl>\\\\\n",
       "\\hline\n",
       "\tfitted.Predictor.00001 & 0.5331810 & 0.01393973 & 0.5063706 & 0.5330017 & 0.5610216 & 0.5326435\\\\\n",
       "\tfitted.Predictor.00002 & 0.5367880 & 0.01382847 & 0.5101840 & 0.5366128 & 0.5643990 & 0.5362627\\\\\n",
       "\tfitted.Predictor.00003 & 0.5403365 & 0.01371387 & 0.5139455 & 0.5401653 & 0.5677113 & 0.5398234\\\\\n",
       "\tfitted.Predictor.00004 & 0.5439420 & 0.01359896 & 0.5177648 & 0.5437748 & 0.5710801 & 0.5434409\\\\\n",
       "\tfitted.Predictor.00005 & 0.5475985 & 0.01348358 & 0.5216361 & 0.5474353 & 0.5744992 & 0.5471093\\\\\n",
       "\tfitted.Predictor.00006 & 0.5512831 & 0.01336718 & 0.5255377 & 0.5511238 & 0.5779446 & 0.5508056\\\\\n",
       "\\end{tabular}\n"
      ],
      "text/markdown": [
       "\n",
       "A data.frame: 6 × 6\n",
       "\n",
       "| <!--/--> | mean &lt;dbl&gt; | sd &lt;dbl&gt; | 0.025quant &lt;dbl&gt; | 0.5quant &lt;dbl&gt; | 0.975quant &lt;dbl&gt; | mode &lt;dbl&gt; |\n",
       "|---|---|---|---|---|---|---|\n",
       "| fitted.Predictor.00001 | 0.5331810 | 0.01393973 | 0.5063706 | 0.5330017 | 0.5610216 | 0.5326435 |\n",
       "| fitted.Predictor.00002 | 0.5367880 | 0.01382847 | 0.5101840 | 0.5366128 | 0.5643990 | 0.5362627 |\n",
       "| fitted.Predictor.00003 | 0.5403365 | 0.01371387 | 0.5139455 | 0.5401653 | 0.5677113 | 0.5398234 |\n",
       "| fitted.Predictor.00004 | 0.5439420 | 0.01359896 | 0.5177648 | 0.5437748 | 0.5710801 | 0.5434409 |\n",
       "| fitted.Predictor.00005 | 0.5475985 | 0.01348358 | 0.5216361 | 0.5474353 | 0.5744992 | 0.5471093 |\n",
       "| fitted.Predictor.00006 | 0.5512831 | 0.01336718 | 0.5255377 | 0.5511238 | 0.5779446 | 0.5508056 |\n",
       "\n"
      ],
      "text/plain": [
       "                       mean      sd         0.025quant 0.5quant  0.975quant\n",
       "fitted.Predictor.00001 0.5331810 0.01393973 0.5063706  0.5330017 0.5610216 \n",
       "fitted.Predictor.00002 0.5367880 0.01382847 0.5101840  0.5366128 0.5643990 \n",
       "fitted.Predictor.00003 0.5403365 0.01371387 0.5139455  0.5401653 0.5677113 \n",
       "fitted.Predictor.00004 0.5439420 0.01359896 0.5177648  0.5437748 0.5710801 \n",
       "fitted.Predictor.00005 0.5475985 0.01348358 0.5216361  0.5474353 0.5744992 \n",
       "fitted.Predictor.00006 0.5512831 0.01336718 0.5255377  0.5511238 0.5779446 \n",
       "                       mode     \n",
       "fitted.Predictor.00001 0.5326435\n",
       "fitted.Predictor.00002 0.5362627\n",
       "fitted.Predictor.00003 0.5398234\n",
       "fitted.Predictor.00004 0.5434409\n",
       "fitted.Predictor.00005 0.5471093\n",
       "fitted.Predictor.00006 0.5508056"
      ]
     },
     "metadata": {},
     "output_type": "display_data"
    },
    {
     "data": {
      "text/plain": [
       "\n",
       "Call:\n",
       "   c(\"inla(formula = formula, family = \\\"poisson\\\", data = df, E = E, \", \" \n",
       "   control.predictor = list(compute = TRUE))\") \n",
       "Time used:\n",
       "    Pre = 0.487, Running = 35.4, Post = 2.61, Total = 38.5 \n",
       "Fixed effects:\n",
       "              mean    sd 0.025quant 0.5quant 0.975quant   mode kld\n",
       "(Intercept) -0.305 0.042     -0.387   -0.305     -0.223 -0.305   0\n",
       "idtime       0.006 0.001      0.005    0.006      0.007  0.006   0\n",
       "\n",
       "Random effects:\n",
       "  Name\t  Model\n",
       "    idarea BYM model\n",
       "   idarea1 IID model\n",
       "\n",
       "Model hyperparameters:\n",
       "                                              mean       sd 0.025quant\n",
       "Precision for idarea (iid component)         27.35     8.07      14.50\n",
       "Precision for idarea (spatial component)   1836.00  1833.99     115.84\n",
       "Precision for idarea1                    115405.95 33544.25   61366.39\n",
       "                                          0.5quant 0.975quant      mode\n",
       "Precision for idarea (iid component)         26.40      45.90     24.57\n",
       "Precision for idarea (spatial component)   1289.30    6689.42    309.98\n",
       "Precision for idarea1                    111633.35  192169.12 104350.70\n",
       "\n",
       "Expected number of effective parameters(stdev): 51.02(0.067)\n",
       "Number of equivalent replicates : 750.81 \n",
       "\n",
       "Marginal log-Likelihood:  -119611.85 \n",
       "Posterior marginals for the linear predictor and\n",
       " the fitted values are computed\n"
      ]
     },
     "metadata": {},
     "output_type": "display_data"
    }
   ],
   "source": [
    "head(res$summary.fitted.values)\n",
    "summary(res)"
   ]
  },
  {
   "cell_type": "code",
   "execution_count": 24,
   "id": "47110af3-067b-4008-ae63-ada20dd5fdf2",
   "metadata": {
    "tags": []
   },
   "outputs": [],
   "source": [
    "map_sf <- merge(\n",
    "map_sf, df,\n",
    "by.x = c(\"municipio\", \"date\"),\n",
    "by.y = c(\"municipio\", \"date\")\n",
    ")"
   ]
  },
  {
   "cell_type": "code",
   "execution_count": 25,
   "id": "6f5ed43f-5e59-402d-b56b-35846be05590",
   "metadata": {
    "tags": []
   },
   "outputs": [
    {
     "name": "stderr",
     "output_type": "stream",
     "text": [
      "Saving 10 x 10 in image\n",
      "\n"
     ]
    },
    {
     "data": {
      "image/png": "[encoded data removed]",
      "text/plain": [
       "plot without title"
      ]
     },
     "metadata": {
      "image/png": {
       "height": 420,
       "width": 420
      }
     },
     "output_type": "display_data"
    }
   ],
   "source": [
    "library(ggplot2)\n",
    "\n",
    "rrplot <- subset(map_sf, year(map_sf$date) == 2019)\n",
    "ggplot(rrplot) + geom_sf(aes(fill = RR)) +\n",
    "facet_wrap(~mes.x, dir = \"h\", ncol = 3) +\n",
    "theme_bw() + theme_minimal() +\n",
    "theme(\n",
    "axis.text.x = element_blank(),\n",
    "axis.text.y = element_blank(),\n",
    "axis.ticks = element_blank()\n",
    ") + theme(strip.text = element_text(size=12),\n",
    "         legend.title = element_text(size=12),\n",
    "         legend.text = element_text(size=12)) + \n",
    "scale_fill_steps2(midpoint = 1, low = \"#2564ac\", mid = \"#f7f7f7\", high = \"#b31b2b\")\n",
    "\n",
    "ggsave(filename = paste0(\"RR_\", year(rrplot$date), \".jpeg\"), path = \"./Figuras/Mapas/RR\", scale = 1.5, device = \"jpeg\", dpi = 300)"
   ]
  },
  {
   "cell_type": "code",
   "execution_count": 51,
   "id": "3e19a44c-41b5-4882-ab6f-d6185d3a59a9",
   "metadata": {},
   "outputs": [
    {
     "data": {
      "image/png": "[encoded data removed]",
      "text/plain": [
       "plot without title"
      ]
     },
     "metadata": {
      "image/png": {
       "height": 420,
       "width": 420
      }
     },
     "output_type": "display_data"
    }
   ],
   "source": [
    "sirline <- subset(df, df$aisp == 23)\n",
    "\n",
    "ggplot(sirline, aes(x = date)) +\n",
    "geom_line(aes(y = SIR, colour = \"SIR\")) +\n",
    "\n",
    "geom_line(aes(y = RR, colour = \"RR\"), size = 0.7) + geom_hline(yintercept=1, linetype = 'dashed') +\n",
    "geom_ribbon(aes(ymin = sirline$LL, ymax = sirline$UL), alpha = 0.3) +\n",
    "\n",
    "scale_colour_manual(\"\", breaks = c(\"SIR\", \"RR\"), values = c(\"blue\", \"red\")) +\n",
    "    \n",
    "theme_bw() + scale_x_date(date_labels = \"%Y\") +\n",
    "labs(x = 'Ano', y='Taxa padronizada')\n",
    "\n",
    "\n",
    "ggsave(filename = paste0(\"AISPSIR_\", sirline$aisp, \".jpeg\"), path = \"./Figuras/Gráficos/Temporal\", scale = 1, width = 8, height = 5,device = \"jpeg\", dpi = 300)"
   ]
  },
  {
   "cell_type": "code",
   "execution_count": 27,
   "id": "7de813a5-b9af-46b2-9775-c3875aaca6da",
   "metadata": {},
   "outputs": [],
   "source": [
    "sirline <- subset(df, df$aisp == 23)"
   ]
  },
  {
   "cell_type": "code",
   "execution_count": 28,
   "id": "371cedfc-a26d-43a1-9f41-3f2a9240cc71",
   "metadata": {},
   "outputs": [
    {
     "name": "stderr",
     "output_type": "stream",
     "text": [
      "Saving 3.33 x 3.33 in image\n",
      "\n"
     ]
    },
    {
     "data": {
      "image/png": "[encoded data removed]",
      "text/plain": [
       "plot without title"
      ]
     },
     "metadata": {
      "image/png": {
       "height": 420,
       "width": 420
      }
     },
     "output_type": "display_data"
    }
   ],
   "source": [
    "ggplot(sirline, aes(year(sirline$date), month(sirline$date, label = TRUE, abbr = FALSE), fill = RR)) + geom_tile(colour = \"white\", size = 0.3) +\n",
    "  scale_fill_gradient2(midpoint = 1, low = \"#2564ac\", mid = \"#f7f7f7\", high = \"#b31b2b\") +\n",
    "  labs(x = \"Ano\", y = \"Mês\") +\n",
    "  theme_bw() + theme_minimal()\n",
    "\n",
    "ggsave(filename = paste0(\"heatmap_\", sirline$aisp, \".jpeg\"), path = \"./Figuras/Gráficos/Heatmap\", scale = 0.5, device = \"jpeg\", dpi = 300)"
   ]
  }
 ],
 "metadata": {
  "kernelspec": {
   "display_name": "R",
   "language": "R",
   "name": "ir"
  },
  "language_info": {
   "codemirror_mode": "r",
   "file_extension": ".r",
   "mimetype": "text/x-r-source",
   "name": "R",
   "pygments_lexer": "r",
   "version": "4.1.0"
  }
 },
 "nbformat": 4,
 "nbformat_minor": 5
}
